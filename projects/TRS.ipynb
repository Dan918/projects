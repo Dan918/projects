{
 "cells": [
  {
   "cell_type": "code",
   "execution_count": 1,
   "metadata": {},
   "outputs": [],
   "source": [
    "\n",
    "import pandas as pd\n",
    "\n",
    "import yfinance as yf\n",
    "\n",
    "\n",
    "#df_temp = pd.read_json('https://sandbox.iexapis.com/stable/stock/'+sym+'/chart/1y?token='+token+'')\n",
    "\n",
    "#data=yf.download('fb aapl amzn nflx googl baba bidu nvda tsla twtr',start='2020-10-30',end='2020-11-2')\n",
    "#data=pd.DataFrame(data)\n"
   ]
  },
  {
   "cell_type": "code",
   "execution_count": 5,
   "metadata": {},
   "outputs": [
    {
     "name": "stdout",
     "output_type": "stream",
     "text": [
      "[*********************100%***********************]  10 of 10 completed\n"
     ]
    }
   ],
   "source": [
    "data=yf.download('fb aapl amzn nflx googl baba bidu nvda tsla twtr',start='2020-10-30',end='2020-11-6')\n",
    "data=pd.DataFrame(data)\n"
   ]
  },
  {
   "cell_type": "code",
   "execution_count": 6,
   "metadata": {},
   "outputs": [],
   "source": [
    "open_price=data['Open']\n",
    "close_price=data['Close']\n",
    "open_price=pd.DataFrame(open_price)\n",
    "open_price_sum=open_price.sum(axis=1)\n",
    "close_price=pd.DataFrame(close_price)\n",
    "close_price_sum=close_price.sum(axis=1)"
   ]
  },
  {
   "cell_type": "code",
   "execution_count": 7,
   "metadata": {},
   "outputs": [
    {
     "data": {
      "text/plain": [
       "Date\n",
       "2020-10-30   -0.036292\n",
       "2020-11-02   -0.007776\n",
       "2020-11-03    0.011075\n",
       "2020-11-04    0.020129\n",
       "2020-11-05    0.001690\n",
       "dtype: float64"
      ]
     },
     "execution_count": 7,
     "metadata": {},
     "output_type": "execute_result"
    }
   ],
   "source": [
    "hpr =(close_price_sum-open_price_sum)/close_price_sum\n",
    "hpr"
   ]
  },
  {
   "cell_type": "code",
   "execution_count": 8,
   "metadata": {},
   "outputs": [],
   "source": [
    "daily_rtrn=pd.DataFrame(close_price-open_price).sum(axis=1)"
   ]
  },
  {
   "cell_type": "code",
   "execution_count": 9,
   "metadata": {},
   "outputs": [
    {
     "ename": "NameError",
     "evalue": "name 'fixed_leg' is not defined",
     "output_type": "error",
     "traceback": [
      "\u001b[1;31m---------------------------------------------------------------------------\u001b[0m",
      "\u001b[1;31mNameError\u001b[0m                                 Traceback (most recent call last)",
      "\u001b[1;32m<ipython-input-9-1d82295945fb>\u001b[0m in \u001b[0;36m<module>\u001b[1;34m\u001b[0m\n\u001b[1;32m----> 1\u001b[1;33m \u001b[0mTRS\u001b[0m\u001b[1;33m=\u001b[0m\u001b[1;33m(\u001b[0m\u001b[0mdaily_rtrn\u001b[0m\u001b[1;33m*\u001b[0m\u001b[1;36m3\u001b[0m\u001b[1;33m)\u001b[0m\u001b[1;33m-\u001b[0m\u001b[1;33m(\u001b[0m\u001b[0mfixed_leg\u001b[0m\u001b[1;33m+\u001b[0m\u001b[0mfed_fund_rate\u001b[0m\u001b[1;33m/\u001b[0m\u001b[1;36m250\u001b[0m\u001b[1;33m)\u001b[0m\u001b[1;33m-\u001b[0m\u001b[1;33m(\u001b[0m\u001b[0mexpense_ratio\u001b[0m\u001b[1;33m/\u001b[0m\u001b[1;36m250\u001b[0m\u001b[1;33m)\u001b[0m\u001b[1;33m\u001b[0m\u001b[1;33m\u001b[0m\u001b[0m\n\u001b[0m\u001b[0;32m      2\u001b[0m \u001b[0mtrs_not\u001b[0m\u001b[1;33m=\u001b[0m\u001b[1;33m(\u001b[0m\u001b[0mTRS\u001b[0m\u001b[1;33m*\u001b[0m\u001b[1;36m225000000\u001b[0m\u001b[1;33m)\u001b[0m\u001b[1;33m\u001b[0m\u001b[1;33m\u001b[0m\u001b[0m\n\u001b[0;32m      3\u001b[0m \u001b[0mvaluetrs\u001b[0m\u001b[1;33m=\u001b[0m\u001b[0mtrs_not\u001b[0m\u001b[1;33m/\u001b[0m\u001b[1;36m4500000\u001b[0m\u001b[1;33m\u001b[0m\u001b[1;33m\u001b[0m\u001b[0m\n\u001b[0;32m      4\u001b[0m \u001b[0mvaluetrs\u001b[0m\u001b[1;33m\u001b[0m\u001b[1;33m\u001b[0m\u001b[0m\n",
      "\u001b[1;31mNameError\u001b[0m: name 'fixed_leg' is not defined"
     ]
    }
   ],
   "source": [
    "TRS=(daily_rtrn*3)-(fixed_leg+fed_fund_rate/250)-(expense_ratio/250)\n",
    "trs_not=(TRS*225000000)\n",
    "valuetrs=trs_not/4500000\n",
    "valuetrs"
   ]
  },
  {
   "cell_type": "code",
   "execution_count": 10,
   "metadata": {},
   "outputs": [
    {
     "ename": "NameError",
     "evalue": "name 'fixed_leg' is not defined",
     "output_type": "error",
     "traceback": [
      "\u001b[1;31m---------------------------------------------------------------------------\u001b[0m",
      "\u001b[1;31mNameError\u001b[0m                                 Traceback (most recent call last)",
      "\u001b[1;32m<ipython-input-10-6a1b5a84fddf>\u001b[0m in \u001b[0;36m<module>\u001b[1;34m\u001b[0m\n\u001b[1;32m----> 1\u001b[1;33m \u001b[0mTRS1\u001b[0m\u001b[1;33m=\u001b[0m\u001b[1;33m(\u001b[0m\u001b[0mhpr\u001b[0m\u001b[1;33m*\u001b[0m\u001b[1;36m3\u001b[0m\u001b[1;33m)\u001b[0m\u001b[1;33m-\u001b[0m\u001b[1;33m(\u001b[0m\u001b[0mfixed_leg\u001b[0m\u001b[1;33m+\u001b[0m\u001b[0mfed_fund_rate\u001b[0m\u001b[1;33m/\u001b[0m\u001b[1;36m250\u001b[0m\u001b[1;33m)\u001b[0m\u001b[1;33m-\u001b[0m\u001b[1;33m(\u001b[0m\u001b[0mexpense_ratio\u001b[0m\u001b[1;33m/\u001b[0m\u001b[1;36m250\u001b[0m\u001b[1;33m)\u001b[0m\u001b[1;33m\u001b[0m\u001b[1;33m\u001b[0m\u001b[0m\n\u001b[0m\u001b[0;32m      2\u001b[0m \u001b[0mTRS1\u001b[0m\u001b[1;33m\u001b[0m\u001b[1;33m\u001b[0m\u001b[0m\n",
      "\u001b[1;31mNameError\u001b[0m: name 'fixed_leg' is not defined"
     ]
    }
   ],
   "source": [
    "TRS1=(hpr*3)-(fixed_leg+fed_fund_rate/250)-(expense_ratio/250)\n",
    "TRS1"
   ]
  },
  {
   "cell_type": "code",
   "execution_count": 13,
   "metadata": {},
   "outputs": [
    {
     "name": "stdout",
     "output_type": "stream",
     "text": [
      "[*********************100%***********************]  1 of 1 completed\n"
     ]
    }
   ],
   "source": [
    "fngu=yf.download('FNGU',start='2020-10-30',end='2020-11-6')\n"
   ]
  },
  {
   "cell_type": "code",
   "execution_count": 14,
   "metadata": {},
   "outputs": [
    {
     "data": {
      "text/plain": [
       "Date\n",
       "2020-10-30   -0.102819\n",
       "2020-11-02   -0.022037\n",
       "2020-11-03    0.032633\n",
       "2020-11-04    0.041126\n",
       "2020-11-05    0.012909\n",
       "dtype: float64"
      ]
     },
     "execution_count": 14,
     "metadata": {},
     "output_type": "execute_result"
    }
   ],
   "source": [
    "fngu=pd.DataFrame(fngu)\n",
    "fngu_open_price=fngu['Open']\n",
    "fngu_close_price=fngu['Close']\n",
    "fngu_hpr=(fngu_close_price-fngu_open_price)/fngu_close_price\n",
    "fngu_hpr"
   ]
  },
  {
   "cell_type": "code",
   "execution_count": 15,
   "metadata": {},
   "outputs": [],
   "source": [
    "class trs:\n",
    "    \n",
    "    fed_fund_rate=.09\n",
    "    business_days=250\n",
    "    fixed_leg=1\n",
    "    expense_ratio=.95\n",
    "    def __init__(self,df,leverage,fed_fund_rate,business_days,expense_ratio):\n",
    "        self.df=df\n",
    "        self.leverage=leverage\n",
    "        self.fed_fund_rate=fed_fund_rate\n",
    "        self.expense_ratio=expense_ratio\n",
    "        self.business_days=business_days\n",
    "        \n",
    "    def TRS_EOD_MTM(df, leverage,fixed_leg, business_days, fed_fund_rate,expense_ratio):\n",
    "        open_price=df['Open']\n",
    "        close_price=df['Close']\n",
    "        hpr=(close_price-open_price)/close_price\n",
    "        trs_change=(hpr*leverage)-(fixed_leg+fed_fund_rate/business_days)-(expense_ratio/250)\n",
    "        print(trs_change)"
   ]
  },
  {
   "cell_type": "code",
   "execution_count": 16,
   "metadata": {},
   "outputs": [
    {
     "name": "stdout",
     "output_type": "stream",
     "text": [
      "Date\n",
      "2020-10-30   -1.312616\n",
      "2020-11-02   -1.070272\n",
      "2020-11-03   -0.906262\n",
      "2020-11-04   -0.880782\n",
      "2020-11-05   -0.965433\n",
      "dtype: float64\n"
     ]
    }
   ],
   "source": [
    "trs.TRS_EOD_MTM(df=fngu,leverage=3,fixed_leg=1,business_days=250,fed_fund_rate=.09,expense_ratio=.95)"
   ]
  },
  {
   "cell_type": "code",
   "execution_count": 17,
   "metadata": {},
   "outputs": [
    {
     "name": "stdout",
     "output_type": "stream",
     "text": [
      "                AAPL      AMZN      BABA      BIDU        FB     GOOGL  \\\n",
      "Date                                                                     \n",
      "2020-10-30 -1.064788 -1.124312 -1.042166 -0.957937 -1.134030 -1.099444   \n",
      "2020-11-02 -1.013538 -1.061335 -1.005222 -1.009979 -1.041350 -1.002720   \n",
      "2020-11-03 -0.982972 -0.974755 -1.010778 -1.016463 -0.979961 -0.976998   \n",
      "2020-11-04 -0.983020 -0.929030 -0.923811 -0.951348 -0.937558 -0.934962   \n",
      "2020-11-05 -0.976940 -1.002327 -1.018130 -1.025627 -0.975858 -1.017692   \n",
      "\n",
      "                NFLX      NVDA      TSLA      TWTR  \n",
      "Date                                                \n",
      "2020-10-30 -1.169818 -1.079794 -1.149970 -1.234092  \n",
      "2020-11-02 -0.971627 -1.022521 -0.955397 -1.131852  \n",
      "2020-11-03 -0.990060 -0.932498 -0.903877 -0.881946  \n",
      "2020-11-04 -0.994561 -0.916080 -1.072857 -0.966976  \n",
      "2020-11-05 -0.962117 -1.004690 -0.937119 -0.990433  \n"
     ]
    }
   ],
   "source": [
    "a=trs.TRS_EOD_MTM(df=data,leverage=3,fixed_leg=1,business_days=250,fed_fund_rate=.09,expense_ratio=.95)"
   ]
  },
  {
   "cell_type": "code",
   "execution_count": null,
   "metadata": {},
   "outputs": [],
   "source": []
  },
  {
   "cell_type": "code",
   "execution_count": 134,
   "metadata": {},
   "outputs": [
    {
     "name": "stdout",
     "output_type": "stream",
     "text": [
      "Empty DataFrame\n",
      "Columns: []\n",
      "Index: []\n"
     ]
    }
   ],
   "source": [
    "print(composite)"
   ]
  },
  {
   "cell_type": "code",
   "execution_count": null,
   "metadata": {},
   "outputs": [],
   "source": []
  }
 ],
 "metadata": {
  "kernelspec": {
   "display_name": "Python 3",
   "language": "python",
   "name": "python3"
  },
  "language_info": {
   "codemirror_mode": {
    "name": "ipython",
    "version": 3
   },
   "file_extension": ".py",
   "mimetype": "text/x-python",
   "name": "python",
   "nbconvert_exporter": "python",
   "pygments_lexer": "ipython3",
   "version": "3.7.9"
  }
 },
 "nbformat": 4,
 "nbformat_minor": 4
}
